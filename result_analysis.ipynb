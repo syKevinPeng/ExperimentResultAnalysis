{
  "nbformat": 4,
  "nbformat_minor": 0,
  "metadata": {
    "colab": {
      "provenance": [],
      "mount_file_id": "13TmkR5E9DkDhJZoXR8HvV3A4NB2cqL2I",
      "authorship_tag": "ABX9TyM/JY+fZf5kfvthAVP2llNx",
      "include_colab_link": true
    },
    "kernelspec": {
      "name": "python3",
      "display_name": "Python 3"
    },
    "language_info": {
      "name": "python"
    }
  },
  "cells": [
    {
      "cell_type": "markdown",
      "metadata": {
        "id": "view-in-github",
        "colab_type": "text"
      },
      "source": [
        "<a href=\"https://colab.research.google.com/github/syKevinPeng/ExperimentResultAnalysis/blob/main/result_analysis.ipynb\" target=\"_parent\"><img src=\"https://colab.research.google.com/assets/colab-badge.svg\" alt=\"Open In Colab\"/></a>"
      ]
    },
    {
      "cell_type": "code",
      "execution_count": null,
      "metadata": {
        "id": "f1jOsrqnCYH4"
      },
      "outputs": [],
      "source": [
        "# process_result.py\n",
        "from google.colab import drive\n",
        "import os\n",
        "import pathlib\n",
        "\n",
        "# mount google drive\n",
        "drive.mount('/content/drive')\n",
        "\n",
        "# path to directory\n",
        "result_dir = \"/content/drive/MyDrive/Research/VRExperiment\"\n",
        "\n",
        "# List all files in the folder\n",
        "file_list = os.listdir(result_dir)\n",
        "for file in file_list:\n",
        "  print(file)"
      ]
    }
  ]
}