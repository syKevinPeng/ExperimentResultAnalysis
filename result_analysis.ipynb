{
  "nbformat": 4,
  "nbformat_minor": 0,
  "metadata": {
    "colab": {
      "provenance": [],
      "mount_file_id": "13TmkR5E9DkDhJZoXR8HvV3A4NB2cqL2I",
      "authorship_tag": "ABX9TyPhq7c3EP+kE+LFesiKQFCt",
      "include_colab_link": true
    },
    "kernelspec": {
      "name": "python3",
      "display_name": "Python 3"
    },
    "language_info": {
      "name": "python"
    }
  },
  "cells": [
    {
      "cell_type": "markdown",
      "metadata": {
        "id": "view-in-github",
        "colab_type": "text"
      },
      "source": [
        "<a href=\"https://colab.research.google.com/github/syKevinPeng/ExperimentResultAnalysis/blob/main/result_analysis.ipynb\" target=\"_parent\"><img src=\"https://colab.research.google.com/assets/colab-badge.svg\" alt=\"Open In Colab\"/></a>"
      ]
    },
    {
      "cell_type": "code",
      "source": [
        "# process_result.py\n",
        "from google.colab import drive\n",
        "import os\n",
        "import pathlib\n",
        "import pandas as pd\n",
        "import matplotlib.pyplot as plt\n",
        "import numpy as np"
      ],
      "metadata": {
        "id": "5Z1LjRzdFV2u"
      },
      "execution_count": 97,
      "outputs": []
    },
    {
      "cell_type": "code",
      "execution_count": 98,
      "metadata": {
        "colab": {
          "base_uri": "https://localhost:8080/"
        },
        "id": "f1jOsrqnCYH4",
        "outputId": "86154f1f-0ffd-4148-ee82-fa5ed3a51342"
      },
      "outputs": [
        {
          "output_type": "stream",
          "name": "stdout",
          "text": [
            "Drive already mounted at /content/drive; to attempt to forcibly remount, call drive.mount(\"/content/drive\", force_remount=True).\n",
            "3266_data.txt\n",
            "158_data.txt\n",
            "5477_data.txt\n"
          ]
        }
      ],
      "source": [
        "\n",
        "# mount google drive\n",
        "drive.mount('/content/drive')\n",
        "\n",
        "# path to directory\n",
        "result_dir = \"/content/drive/MyDrive/Research/VRExperiment\"\n",
        "\n",
        "# List all files in the folder\n",
        "file_list = os.listdir(result_dir)\n",
        "for file in file_list:\n",
        "  print(file)"
      ]
    },
    {
      "cell_type": "code",
      "source": [
        "def analyze_staircase_with_alternating_three_rule(data):\n",
        "    tuning_points = []\n",
        "    no_count = 0  # Counter for consecutive \"NO\" responses\n",
        "    yes_count = 0  # Counter for consecutive \"YES\" responses\n",
        "    decreasing = True  # Flag to track if we are in the increasing or decreasing phase\n",
        "\n",
        "    # Iterate over each trial in the data\n",
        "    for i in range(len(data)):\n",
        "        current_result = data['result'].iloc[i]\n",
        "        if decreasing:\n",
        "            # Count consecutive \"NO\"s in increasing phase\n",
        "            if current_result == \"False\":\n",
        "                no_count += 1\n",
        "            # After three \"YES\" responses, we mark a tuning point and switch to decreasing\n",
        "            if no_count == 3:\n",
        "                tuning_points.append(data['value'].iloc[i])\n",
        "                no_count = 0  # Reset YES count\n",
        "                decreasing = False  # Switch to decreasing phase\n",
        "\n",
        "\n",
        "\n",
        "        else:\n",
        "            # Count consecutive \"NO\"\n",
        "            # Count consecutive \"YES\"s in decreasing phase\n",
        "            if current_result == \"True\":\n",
        "                yes_count += 1\n",
        "\n",
        "            # After three \"NO\" responses, we mark a tuning point and switch to increasing\n",
        "            if yes_count == 3:\n",
        "                tuning_points.append(data['value'].iloc[i])\n",
        "                yes_count = 0  # Reset NO count\n",
        "                decreasing = True  # Switch to increasing phase\n",
        "\n",
        "    # Calculate the threshold as the average of all tuning points\n",
        "    threshold = sum(tuning_points) / len(tuning_points) if tuning_points else None\n",
        "\n",
        "    return threshold, tuning_points\n"
      ],
      "metadata": {
        "id": "SP33RqZ8XiVv"
      },
      "execution_count": 118,
      "outputs": []
    },
    {
      "cell_type": "code",
      "source": [
        "def plot_staircase_with_alternating_three_rule(data, tuning_points = None):\n",
        "    # x axis is the number of responses\n",
        "    # y axis is the illusion value\n",
        "    # when result is yes, mark the dot to green; when the result is no, mark the dot to red\n",
        "    # if tuning_points is not none, make the turning points to be triangle\n",
        "\n",
        "    # Initialize plot\n",
        "    plt.figure(figsize=(10, 6))\n",
        "\n",
        "    # Plot each response\n",
        "    for i, row in data.iterrows():\n",
        "        x = i  # x-axis is the response number\n",
        "        y = row['value']  # y-axis is the illusion value\n",
        "\n",
        "        # Set color based on the result (YES: green, NO: red)\n",
        "        color = 'green' if row['result'] == \"True\" else 'red'\n",
        "\n",
        "        # Plot each point as a circle\n",
        "        plt.scatter(x, y, color=color, marker='o', label='YES' if color == 'green' else 'NO')\n",
        "\n",
        "    # Add labels and title\n",
        "    plt.xlabel(\"Response Number\")\n",
        "    plt.ylabel(\"Illusion Value\")\n",
        "    plt.title(\"Staircase Plot with Alternating Three Rule\")\n",
        "    plt.legend(['YES', 'NO', 'Tuning Point'])\n",
        "    plt.grid(True)\n",
        "    plt.show()\n",
        "\n"
      ],
      "metadata": {
        "id": "3WW3caK2SfT-"
      },
      "execution_count": 122,
      "outputs": []
    },
    {
      "cell_type": "code",
      "source": [
        "def process_one_result(file_name):\n",
        "    print(f'Processing: {file_name}')\n",
        "    # read file\n",
        "    file_path = os.path.join(result_dir, file_name)\n",
        "    with open(file_path, 'r') as file:\n",
        "        lines = file.readlines()\n",
        "    UID = lines[0].split(\":\")[1].strip()\n",
        "    # find the last occurance of line UID\n",
        "    last_index = len(lines) - 1\n",
        "    for i in range(len(lines) - 1, -1, -1):\n",
        "        if lines[i].startswith(\"UID:\"):\n",
        "            last_index = i\n",
        "            break\n",
        "    print(f'starting from line: {last_index}')\n",
        "    # start from last_index\n",
        "    lines = lines[last_index:]\n",
        "    # remove first two lines (UID and text)\n",
        "    result = lines[2:]\n",
        "    # conver to df\n",
        "    df = pd.DataFrame(result, columns=[\"result\"])\n",
        "    # split by comma, column name: experiment type, value, result\n",
        "    df[[\"experiment\", \"value\", \"result\"]] = df[\"result\"].str.split(\",\", expand=True)\n",
        "    # split experiment column to scene and illusion type\n",
        "    df[[\"scene\", \"illusion\"]] = df[\"experiment\"].str.split(\" \", expand=True)\n",
        "    # drop experiment column\n",
        "    df = df.drop(columns=[\"experiment\"])\n",
        "    # remove \"\\n\" from the result column\n",
        "    df[\"result\"] = df[\"result\"].str.replace(\"\\n\", \"\")\n",
        "    # rearrange column order: scene, illusion, value, result\n",
        "    df = df[[\"scene\", \"illusion\", \"value\", \"result\"]]\n",
        "    # make value column to float type\n",
        "    df[\"value\"] = df[\"value\"].astype(float)\n",
        "    # convert result column to bool\n",
        "    # Stationary scene\n",
        "    stationary_scene = df[df[\"scene\"] == \"Stationary\"]\n",
        "    # illusion scene\n",
        "    moving_scene = df[df[\"scene\"] == \"Moving\"]\n",
        "    if stationary_scene.empty:\n",
        "        print(\"Stationary scene not found\")\n",
        "        return\n",
        "    if moving_scene.empty:\n",
        "        print(\"Moving scene not found\")\n",
        "        return\n",
        "    return stationary_scene, moving_scene\n",
        "\n",
        "\n",
        "\n",
        "\n"
      ],
      "metadata": {
        "id": "TMNSR1-cEUiB"
      },
      "execution_count": 123,
      "outputs": []
    },
    {
      "cell_type": "code",
      "source": [
        "for file in file_list:\n",
        "  stationary_scene, moving_scene = process_one_result(file)\n",
        "  # illusion Pattern:\n",
        "  illusion_patns = stationary_scene[\"illusion\"].unique()\n",
        "\n",
        "\n",
        "  # For this phycophysics experiment, we used staircase method, where we need\n",
        "  # to find the tunning point and calculate the average of the turning point to determine the threshold\n",
        "  for illusion_pattern in illusion_patns:\n",
        "    illusion_pattern_data = stationary_scene[stationary_scene[\"illusion\"] == illusion_pattern]\n",
        "    print(illusion_pattern_data)\n",
        "    if illusion_pattern_data.empty:\n",
        "      print(f\"Illusion pattern {illusion_pattern} not found\")\n",
        "      continue\n",
        "    moving_scene_threshold, moving_scene_tuning_points = analyze_staircase_with_alternating_three_rule(illusion_pattern_data)\n",
        "    print(f'Moving scene {illusion_pattern} threshold: {moving_scene_threshold}')\n",
        "    print(f'Moving scene {illusion_pattern} tuning points: {moving_scene_tuning_points}')\n",
        "    plot_staircase_with_alternating_three_rule(illusion_pattern_data, moving_scene_tuning_points)\n",
        "    break\n",
        "  break"
      ],
      "metadata": {
        "colab": {
          "base_uri": "https://localhost:8080/",
          "height": 1000
        },
        "id": "SJmby3bUExM8",
        "outputId": "11952e8f-3408-4077-a607-8becffd2f270"
      },
      "execution_count": 124,
      "outputs": [
        {
          "output_type": "stream",
          "name": "stdout",
          "text": [
            "Processing: 3266_data.txt\n",
            "starting from line: 0\n",
            "         scene    illusion  value result\n",
            "6   Stationary  OuchiColor   0.98   True\n",
            "7   Stationary  OuchiColor   0.92   True\n",
            "8   Stationary  OuchiColor   0.86   True\n",
            "9   Stationary  OuchiColor   0.80   True\n",
            "10  Stationary  OuchiColor   0.74   True\n",
            "11  Stationary  OuchiColor   0.68   True\n",
            "12  Stationary  OuchiColor   0.62   True\n",
            "13  Stationary  OuchiColor   0.60   True\n",
            "14  Stationary  OuchiColor   0.58   True\n",
            "15  Stationary  OuchiColor   0.56   True\n",
            "16  Stationary  OuchiColor   0.54   True\n",
            "17  Stationary  OuchiColor   0.52   True\n",
            "18  Stationary  OuchiColor   0.50   True\n",
            "19  Stationary  OuchiColor   0.48   True\n",
            "20  Stationary  OuchiColor   0.46   True\n",
            "21  Stationary  OuchiColor   0.44   True\n",
            "22  Stationary  OuchiColor   0.42   True\n",
            "23  Stationary  OuchiColor   0.40  False\n",
            "24  Stationary  OuchiColor   0.38   True\n",
            "25  Stationary  OuchiColor   0.36   True\n",
            "26  Stationary  OuchiColor   0.34  False\n",
            "27  Stationary  OuchiColor   0.32  False\n",
            "28  Stationary  OuchiColor   0.34   True\n",
            "29  Stationary  OuchiColor   0.36   True\n",
            "30  Stationary  OuchiColor   0.38  False\n",
            "31  Stationary  OuchiColor   0.36  False\n",
            "32  Stationary  OuchiColor   0.34  False\n",
            "33  Stationary  OuchiColor   0.36   True\n",
            "data num: 0, result: True\n",
            "decreasing\n",
            "no_count: 0\n",
            "data num: 1, result: True\n",
            "decreasing\n",
            "no_count: 0\n",
            "data num: 2, result: True\n",
            "decreasing\n",
            "no_count: 0\n",
            "data num: 3, result: True\n",
            "decreasing\n",
            "no_count: 0\n",
            "data num: 4, result: True\n",
            "decreasing\n",
            "no_count: 0\n",
            "data num: 5, result: True\n",
            "decreasing\n",
            "no_count: 0\n",
            "data num: 6, result: True\n",
            "decreasing\n",
            "no_count: 0\n",
            "data num: 7, result: True\n",
            "decreasing\n",
            "no_count: 0\n",
            "data num: 8, result: True\n",
            "decreasing\n",
            "no_count: 0\n",
            "data num: 9, result: True\n",
            "decreasing\n",
            "no_count: 0\n",
            "data num: 10, result: True\n",
            "decreasing\n",
            "no_count: 0\n",
            "data num: 11, result: True\n",
            "decreasing\n",
            "no_count: 0\n",
            "data num: 12, result: True\n",
            "decreasing\n",
            "no_count: 0\n",
            "data num: 13, result: True\n",
            "decreasing\n",
            "no_count: 0\n",
            "data num: 14, result: True\n",
            "decreasing\n",
            "no_count: 0\n",
            "data num: 15, result: True\n",
            "decreasing\n",
            "no_count: 0\n",
            "data num: 16, result: True\n",
            "decreasing\n",
            "no_count: 0\n",
            "data num: 17, result: False\n",
            "decreasing\n",
            "no_count: 1\n",
            "data num: 18, result: True\n",
            "decreasing\n",
            "no_count: 1\n",
            "data num: 19, result: True\n",
            "decreasing\n",
            "no_count: 1\n",
            "data num: 20, result: False\n",
            "decreasing\n",
            "no_count: 2\n",
            "data num: 21, result: False\n",
            "decreasing\n",
            " --- tuning point ----\n",
            "no_count: 0\n",
            "data num: 22, result: True\n",
            "increasing\n",
            "yes_count: 1\n",
            "data num: 23, result: True\n",
            "increasing\n",
            "yes_count: 2\n",
            "data num: 24, result: False\n",
            "increasing\n",
            "yes_count: 2\n",
            "data num: 25, result: False\n",
            "increasing\n",
            "yes_count: 2\n",
            "data num: 26, result: False\n",
            "increasing\n",
            "yes_count: 2\n",
            "data num: 27, result: True\n",
            "increasing\n",
            "yes_count: 0\n",
            "Moving scene OuchiColor threshold: 0.33999999999999997\n",
            "Moving scene OuchiColor tuning points: [0.32, 0.36]\n"
          ]
        },
        {
          "output_type": "display_data",
          "data": {
            "text/plain": [
              "<Figure size 1000x600 with 1 Axes>"
            ],
            "image/png": "[encoded data removed]"
          },
          "metadata": {}
        }
      ]
    },
    {
      "cell_type": "code",
      "source": [],
      "metadata": {
        "id": "o2Xr4X8pEz8j"
      },
      "execution_count": 104,
      "outputs": []
    }
  ]
}