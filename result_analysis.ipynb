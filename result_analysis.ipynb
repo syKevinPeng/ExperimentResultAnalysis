{
  "nbformat": 4,
  "nbformat_minor": 0,
  "metadata": {
    "colab": {
      "provenance": [],
      "mount_file_id": "13TmkR5E9DkDhJZoXR8HvV3A4NB2cqL2I",
      "authorship_tag": "ABX9TyPlj9QRDwlNo0UAeenkZluI",
      "include_colab_link": true
    },
    "kernelspec": {
      "name": "python3",
      "display_name": "Python 3"
    },
    "language_info": {
      "name": "python"
    }
  },
  "cells": [
    {
      "cell_type": "markdown",
      "metadata": {
        "id": "view-in-github",
        "colab_type": "text"
      },
      "source": [
        "<a href=\"https://colab.research.google.com/github/syKevinPeng/ExperimentResultAnalysis/blob/main/result_analysis.ipynb\" target=\"_parent\"><img src=\"https://colab.research.google.com/assets/colab-badge.svg\" alt=\"Open In Colab\"/></a>"
      ]
    },
    {
      "cell_type": "code",
      "source": [
        "# process_result.py\n",
        "from google.colab import drive\n",
        "import os\n",
        "import pathlib\n",
        "import pandas as pd"
      ],
      "metadata": {
        "id": "5Z1LjRzdFV2u"
      },
      "execution_count": 1,
      "outputs": []
    },
    {
      "cell_type": "code",
      "execution_count": 2,
      "metadata": {
        "colab": {
          "base_uri": "https://localhost:8080/"
        },
        "id": "f1jOsrqnCYH4",
        "outputId": "36c44724-fea9-411c-c9c7-b34d30a534ac"
      },
      "outputs": [
        {
          "output_type": "stream",
          "name": "stdout",
          "text": [
            "Mounted at /content/drive\n",
            "3266_data.txt\n",
            "158_data.txt\n",
            "5477_data.txt\n"
          ]
        }
      ],
      "source": [
        "\n",
        "# mount google drive\n",
        "drive.mount('/content/drive')\n",
        "\n",
        "# path to directory\n",
        "result_dir = \"/content/drive/MyDrive/Research/VRExperiment\"\n",
        "\n",
        "# List all files in the folder\n",
        "file_list = os.listdir(result_dir)\n",
        "for file in file_list:\n",
        "  print(file)"
      ]
    },
    {
      "cell_type": "code",
      "source": [
        "def analyze_staircase_with_alternating_three_rule(data):\n",
        "    tuning_points = []\n",
        "    no_count = 0  # Counter for consecutive \"NO\" responses\n",
        "    yes_count = 0  # Counter for consecutive \"YES\" responses\n",
        "    increasing = True  # Flag to track if we are in the increasing or decreasing phase\n",
        "\n",
        "    # Iterate over each trial in the data\n",
        "    for i in range(len(data)):\n",
        "        current_result = data['result'].iloc[i]\n",
        "\n",
        "        if increasing:\n",
        "            # Count consecutive \"NO\"s in increasing phase\n",
        "            if current_result == False:\n",
        "                no_count += 1\n",
        "                yes_count = 0  # Reset YES count if we get a \"NO\"\n",
        "            else:\n",
        "                no_count = 0  # Reset NO count if we get a \"YES\"\n",
        "                yes_count += 1\n",
        "\n",
        "            # After three \"YES\" responses, we mark a tuning point and switch to decreasing\n",
        "            if yes_count == 3:\n",
        "                tuning_points.append(data['value'].iloc[i])\n",
        "                yes_count = 0  # Reset YES count\n",
        "                increasing = False  # Switch to decreasing phase\n",
        "\n",
        "        else:\n",
        "            # Count consecutive \"YES\"s in decreasing phase\n",
        "            if current_result == True:\n",
        "                yes_count += 1\n",
        "                no_count = 0  # Reset NO count if we get a \"YES\"\n",
        "            else:\n",
        "                yes_count = 0  # Reset YES count if we get a \"NO\"\n",
        "                no_count += 1\n",
        "\n",
        "            # After three \"NO\" responses, we mark a tuning point and switch to increasing\n",
        "            if no_count == 3:\n",
        "                tuning_points.append(data['value'].iloc[i])\n",
        "                no_count = 0  # Reset NO count\n",
        "                increasing = True  # Switch to increasing phase\n",
        "\n",
        "    # Calculate the threshold as the average of all tuning points\n",
        "    threshold = sum(tuning_points) / len(tuning_points) if tuning_points else None\n",
        "\n",
        "    return threshold, tuning_points\n"
      ],
      "metadata": {
        "id": "SP33RqZ8XiVv"
      },
      "execution_count": 3,
      "outputs": []
    },
    {
      "cell_type": "code",
      "source": [
        "def process_one_result(file_name):\n",
        "    print(f'Processing: {file_name}')\n",
        "    # read file\n",
        "    file_path = os.path.join(result_dir, file_name)\n",
        "    with open(file_path, 'r') as file:\n",
        "        lines = file.readlines()\n",
        "    UID = lines[0].split(\":\")[1].strip()\n",
        "    # find the last occurance of line UID\n",
        "    last_index = len(lines) - 1\n",
        "    for i in range(len(lines) - 1, -1, -1):\n",
        "        if lines[i].startswith(\"UID:\"):\n",
        "            last_index = i\n",
        "            break\n",
        "    print(f'starting from line: {last_index}')\n",
        "    # start from last_index\n",
        "    lines = lines[last_index:]\n",
        "    # remove first two lines (UID and text)\n",
        "    result = lines[2:]\n",
        "    # conver to df\n",
        "    df = pd.DataFrame(result, columns=[\"result\"])\n",
        "    # split by comma, column name: experiment type, value, result\n",
        "    df[[\"experiment\", \"value\", \"result\"]] = df[\"result\"].str.split(\",\", expand=True)\n",
        "    # split experiment column to scene and illusion type\n",
        "    df[[\"scene\", \"illusion\"]] = df[\"experiment\"].str.split(\" \", expand=True)\n",
        "    # drop experiment column\n",
        "    df = df.drop(columns=[\"experiment\"])\n",
        "    # remove \"\\n\" from the result column\n",
        "    df[\"result\"] = df[\"result\"].str.replace(\"\\n\", \"\")\n",
        "    # rearrange column order: scene, illusion, value, result\n",
        "    df = df[[\"scene\", \"illusion\", \"value\", \"result\"]]\n",
        "    # Stationary scene\n",
        "    stationary_scene = df[df[\"scene\"] == \"Stationary\"]\n",
        "    # illusion scene\n",
        "    moving_scene = df[df[\"scene\"] == \"Moving\"]\n",
        "    if stationary_scene.empty:\n",
        "        print(\"Stationary scene not found\")\n",
        "        return\n",
        "    if moving_scene.empty:\n",
        "        print(\"Moving scene not found\")\n",
        "        return\n",
        "\n",
        "    # For this phycophysics experiment, we used staircase method, where we need\n",
        "    # to find the tunning point and calculate the average of the turning point to determine the threshold\n",
        "\n",
        "    moving_scene_threshold, moving_scene_tuning_points = analyze_staircase_with_alternating_three_rule(moving_scene)\n",
        "    print(f'Moving scene threshold: {moving_scene_threshold}')\n",
        "    print(f'Moving scene tuning points: {moving_scene_tuning_points}')\n",
        "\n",
        "\n",
        "\n"
      ],
      "metadata": {
        "id": "TMNSR1-cEUiB"
      },
      "execution_count": 6,
      "outputs": []
    },
    {
      "cell_type": "code",
      "source": [
        "for file in file_list:\n",
        "  process_one_result(file)\n",
        "  break"
      ],
      "metadata": {
        "colab": {
          "base_uri": "https://localhost:8080/",
          "height": 1000
        },
        "id": "SJmby3bUExM8",
        "outputId": "da1749df-faa9-4e69-c316-a41951e25f84"
      },
      "execution_count": 7,
      "outputs": [
        {
          "output_type": "stream",
          "name": "stdout",
          "text": [
            "Processing: 3266_data.txt\n",
            "starting from line: 0\n"
          ]
        },
        {
          "output_type": "error",
          "ename": "KeyError",
          "evalue": "'illusion value'",
          "traceback": [
            "\u001b[0;31m---------------------------------------------------------------------------\u001b[0m",
            "\u001b[0;31mKeyError\u001b[0m                                  Traceback (most recent call last)",
            "\u001b[0;32m/usr/local/lib/python3.10/dist-packages/pandas/core/indexes/base.py\u001b[0m in \u001b[0;36mget_loc\u001b[0;34m(self, key)\u001b[0m\n\u001b[1;32m   3804\u001b[0m         \u001b[0;32mtry\u001b[0m\u001b[0;34m:\u001b[0m\u001b[0;34m\u001b[0m\u001b[0;34m\u001b[0m\u001b[0m\n\u001b[0;32m-> 3805\u001b[0;31m             \u001b[0;32mreturn\u001b[0m \u001b[0mself\u001b[0m\u001b[0;34m.\u001b[0m\u001b[0m_engine\u001b[0m\u001b[0;34m.\u001b[0m\u001b[0mget_loc\u001b[0m\u001b[0;34m(\u001b[0m\u001b[0mcasted_key\u001b[0m\u001b[0;34m)\u001b[0m\u001b[0;34m\u001b[0m\u001b[0;34m\u001b[0m\u001b[0m\n\u001b[0m\u001b[1;32m   3806\u001b[0m         \u001b[0;32mexcept\u001b[0m \u001b[0mKeyError\u001b[0m \u001b[0;32mas\u001b[0m \u001b[0merr\u001b[0m\u001b[0;34m:\u001b[0m\u001b[0;34m\u001b[0m\u001b[0;34m\u001b[0m\u001b[0m\n",
            "\u001b[0;32mindex.pyx\u001b[0m in \u001b[0;36mpandas._libs.index.IndexEngine.get_loc\u001b[0;34m()\u001b[0m\n",
            "\u001b[0;32mindex.pyx\u001b[0m in \u001b[0;36mpandas._libs.index.IndexEngine.get_loc\u001b[0;34m()\u001b[0m\n",
            "\u001b[0;32mpandas/_libs/hashtable_class_helper.pxi\u001b[0m in \u001b[0;36mpandas._libs.hashtable.PyObjectHashTable.get_item\u001b[0;34m()\u001b[0m\n",
            "\u001b[0;32mpandas/_libs/hashtable_class_helper.pxi\u001b[0m in \u001b[0;36mpandas._libs.hashtable.PyObjectHashTable.get_item\u001b[0;34m()\u001b[0m\n",
            "\u001b[0;31mKeyError\u001b[0m: 'illusion value'",
            "\nThe above exception was the direct cause of the following exception:\n",
            "\u001b[0;31mKeyError\u001b[0m                                  Traceback (most recent call last)",
            "\u001b[0;32m<ipython-input-7-6175588d8ec8>\u001b[0m in \u001b[0;36m<cell line: 1>\u001b[0;34m()\u001b[0m\n\u001b[1;32m      1\u001b[0m \u001b[0;32mfor\u001b[0m \u001b[0mfile\u001b[0m \u001b[0;32min\u001b[0m \u001b[0mfile_list\u001b[0m\u001b[0;34m:\u001b[0m\u001b[0;34m\u001b[0m\u001b[0;34m\u001b[0m\u001b[0m\n\u001b[0;32m----> 2\u001b[0;31m   \u001b[0mprocess_one_result\u001b[0m\u001b[0;34m(\u001b[0m\u001b[0mfile\u001b[0m\u001b[0;34m)\u001b[0m\u001b[0;34m\u001b[0m\u001b[0;34m\u001b[0m\u001b[0m\n\u001b[0m\u001b[1;32m      3\u001b[0m   \u001b[0;32mbreak\u001b[0m\u001b[0;34m\u001b[0m\u001b[0;34m\u001b[0m\u001b[0m\n",
            "\u001b[0;32m<ipython-input-6-96821483876b>\u001b[0m in \u001b[0;36mprocess_one_result\u001b[0;34m(file_name)\u001b[0m\n\u001b[1;32m     43\u001b[0m     \u001b[0;31m# to find the tunning point and calculate the average of the turning point to determine the threshold\u001b[0m\u001b[0;34m\u001b[0m\u001b[0;34m\u001b[0m\u001b[0m\n\u001b[1;32m     44\u001b[0m \u001b[0;34m\u001b[0m\u001b[0m\n\u001b[0;32m---> 45\u001b[0;31m     \u001b[0mmoving_scene_threshold\u001b[0m\u001b[0;34m,\u001b[0m \u001b[0mmoving_scene_tuning_points\u001b[0m \u001b[0;34m=\u001b[0m \u001b[0manalyze_staircase_with_alternating_three_rule\u001b[0m\u001b[0;34m(\u001b[0m\u001b[0mmoving_scene\u001b[0m\u001b[0;34m)\u001b[0m\u001b[0;34m\u001b[0m\u001b[0;34m\u001b[0m\u001b[0m\n\u001b[0m\u001b[1;32m     46\u001b[0m     \u001b[0mprint\u001b[0m\u001b[0;34m(\u001b[0m\u001b[0;34mf'Moving scene threshold: {moving_scene_threshold}'\u001b[0m\u001b[0;34m)\u001b[0m\u001b[0;34m\u001b[0m\u001b[0;34m\u001b[0m\u001b[0m\n\u001b[1;32m     47\u001b[0m     \u001b[0mprint\u001b[0m\u001b[0;34m(\u001b[0m\u001b[0;34mf'Moving scene tuning points: {moving_scene_tuning_points}'\u001b[0m\u001b[0;34m)\u001b[0m\u001b[0;34m\u001b[0m\u001b[0;34m\u001b[0m\u001b[0m\n",
            "\u001b[0;32m<ipython-input-3-1d43b83f60ae>\u001b[0m in \u001b[0;36manalyze_staircase_with_alternating_three_rule\u001b[0;34m(data)\u001b[0m\n\u001b[1;32m     20\u001b[0m             \u001b[0;31m# After three \"YES\" responses, we mark a tuning point and switch to decreasing\u001b[0m\u001b[0;34m\u001b[0m\u001b[0;34m\u001b[0m\u001b[0m\n\u001b[1;32m     21\u001b[0m             \u001b[0;32mif\u001b[0m \u001b[0myes_count\u001b[0m \u001b[0;34m==\u001b[0m \u001b[0;36m3\u001b[0m\u001b[0;34m:\u001b[0m\u001b[0;34m\u001b[0m\u001b[0;34m\u001b[0m\u001b[0m\n\u001b[0;32m---> 22\u001b[0;31m                 \u001b[0mtuning_points\u001b[0m\u001b[0;34m.\u001b[0m\u001b[0mappend\u001b[0m\u001b[0;34m(\u001b[0m\u001b[0mdata\u001b[0m\u001b[0;34m[\u001b[0m\u001b[0;34m'illusion value'\u001b[0m\u001b[0;34m]\u001b[0m\u001b[0;34m.\u001b[0m\u001b[0miloc\u001b[0m\u001b[0;34m[\u001b[0m\u001b[0mi\u001b[0m\u001b[0;34m]\u001b[0m\u001b[0;34m)\u001b[0m\u001b[0;34m\u001b[0m\u001b[0;34m\u001b[0m\u001b[0m\n\u001b[0m\u001b[1;32m     23\u001b[0m                 \u001b[0myes_count\u001b[0m \u001b[0;34m=\u001b[0m \u001b[0;36m0\u001b[0m  \u001b[0;31m# Reset YES count\u001b[0m\u001b[0;34m\u001b[0m\u001b[0;34m\u001b[0m\u001b[0m\n\u001b[1;32m     24\u001b[0m                 \u001b[0mincreasing\u001b[0m \u001b[0;34m=\u001b[0m \u001b[0;32mFalse\u001b[0m  \u001b[0;31m# Switch to decreasing phase\u001b[0m\u001b[0;34m\u001b[0m\u001b[0;34m\u001b[0m\u001b[0m\n",
            "\u001b[0;32m/usr/local/lib/python3.10/dist-packages/pandas/core/frame.py\u001b[0m in \u001b[0;36m__getitem__\u001b[0;34m(self, key)\u001b[0m\n\u001b[1;32m   4100\u001b[0m             \u001b[0;32mif\u001b[0m \u001b[0mself\u001b[0m\u001b[0;34m.\u001b[0m\u001b[0mcolumns\u001b[0m\u001b[0;34m.\u001b[0m\u001b[0mnlevels\u001b[0m \u001b[0;34m>\u001b[0m \u001b[0;36m1\u001b[0m\u001b[0;34m:\u001b[0m\u001b[0;34m\u001b[0m\u001b[0;34m\u001b[0m\u001b[0m\n\u001b[1;32m   4101\u001b[0m                 \u001b[0;32mreturn\u001b[0m \u001b[0mself\u001b[0m\u001b[0;34m.\u001b[0m\u001b[0m_getitem_multilevel\u001b[0m\u001b[0;34m(\u001b[0m\u001b[0mkey\u001b[0m\u001b[0;34m)\u001b[0m\u001b[0;34m\u001b[0m\u001b[0;34m\u001b[0m\u001b[0m\n\u001b[0;32m-> 4102\u001b[0;31m             \u001b[0mindexer\u001b[0m \u001b[0;34m=\u001b[0m \u001b[0mself\u001b[0m\u001b[0;34m.\u001b[0m\u001b[0mcolumns\u001b[0m\u001b[0;34m.\u001b[0m\u001b[0mget_loc\u001b[0m\u001b[0;34m(\u001b[0m\u001b[0mkey\u001b[0m\u001b[0;34m)\u001b[0m\u001b[0;34m\u001b[0m\u001b[0;34m\u001b[0m\u001b[0m\n\u001b[0m\u001b[1;32m   4103\u001b[0m             \u001b[0;32mif\u001b[0m \u001b[0mis_integer\u001b[0m\u001b[0;34m(\u001b[0m\u001b[0mindexer\u001b[0m\u001b[0;34m)\u001b[0m\u001b[0;34m:\u001b[0m\u001b[0;34m\u001b[0m\u001b[0;34m\u001b[0m\u001b[0m\n\u001b[1;32m   4104\u001b[0m                 \u001b[0mindexer\u001b[0m \u001b[0;34m=\u001b[0m \u001b[0;34m[\u001b[0m\u001b[0mindexer\u001b[0m\u001b[0;34m]\u001b[0m\u001b[0;34m\u001b[0m\u001b[0;34m\u001b[0m\u001b[0m\n",
            "\u001b[0;32m/usr/local/lib/python3.10/dist-packages/pandas/core/indexes/base.py\u001b[0m in \u001b[0;36mget_loc\u001b[0;34m(self, key)\u001b[0m\n\u001b[1;32m   3810\u001b[0m             ):\n\u001b[1;32m   3811\u001b[0m                 \u001b[0;32mraise\u001b[0m \u001b[0mInvalidIndexError\u001b[0m\u001b[0;34m(\u001b[0m\u001b[0mkey\u001b[0m\u001b[0;34m)\u001b[0m\u001b[0;34m\u001b[0m\u001b[0;34m\u001b[0m\u001b[0m\n\u001b[0;32m-> 3812\u001b[0;31m             \u001b[0;32mraise\u001b[0m \u001b[0mKeyError\u001b[0m\u001b[0;34m(\u001b[0m\u001b[0mkey\u001b[0m\u001b[0;34m)\u001b[0m \u001b[0;32mfrom\u001b[0m \u001b[0merr\u001b[0m\u001b[0;34m\u001b[0m\u001b[0;34m\u001b[0m\u001b[0m\n\u001b[0m\u001b[1;32m   3813\u001b[0m         \u001b[0;32mexcept\u001b[0m \u001b[0mTypeError\u001b[0m\u001b[0;34m:\u001b[0m\u001b[0;34m\u001b[0m\u001b[0;34m\u001b[0m\u001b[0m\n\u001b[1;32m   3814\u001b[0m             \u001b[0;31m# If we have a listlike key, _check_indexing_error will raise\u001b[0m\u001b[0;34m\u001b[0m\u001b[0;34m\u001b[0m\u001b[0m\n",
            "\u001b[0;31mKeyError\u001b[0m: 'illusion value'"
          ]
        }
      ]
    },
    {
      "cell_type": "code",
      "source": [],
      "metadata": {
        "id": "o2Xr4X8pEz8j"
      },
      "execution_count": null,
      "outputs": []
    }
  ]
}