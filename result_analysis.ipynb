{
  "nbformat": 4,
  "nbformat_minor": 0,
  "metadata": {
    "colab": {
      "provenance": [],
      "mount_file_id": "13TmkR5E9DkDhJZoXR8HvV3A4NB2cqL2I",
      "authorship_tag": "ABX9TyO/lqSfVZh7Z46Lh+0sesSr",
      "include_colab_link": true
    },
    "kernelspec": {
      "name": "python3",
      "display_name": "Python 3"
    },
    "language_info": {
      "name": "python"
    }
  },
  "cells": [
    {
      "cell_type": "markdown",
      "metadata": {
        "id": "view-in-github",
        "colab_type": "text"
      },
      "source": [
        "<a href=\"https://colab.research.google.com/github/syKevinPeng/ExperimentResultAnalysis/blob/main/result_analysis.ipynb\" target=\"_parent\"><img src=\"https://colab.research.google.com/assets/colab-badge.svg\" alt=\"Open In Colab\"/></a>"
      ]
    },
    {
      "cell_type": "code",
      "source": [
        "# process_result.py\n",
        "from google.colab import drive\n",
        "import os\n",
        "import pathlib\n",
        "import pandas as pd"
      ],
      "metadata": {
        "id": "5Z1LjRzdFV2u"
      },
      "execution_count": null,
      "outputs": []
    },
    {
      "cell_type": "code",
      "execution_count": null,
      "metadata": {
        "colab": {
          "base_uri": "https://localhost:8080/"
        },
        "id": "f1jOsrqnCYH4",
        "outputId": "2d8fdaea-cea7-44e9-f412-47f66f8bca3d"
      },
      "outputs": [
        {
          "output_type": "stream",
          "name": "stdout",
          "text": [
            "Drive already mounted at /content/drive; to attempt to forcibly remount, call drive.mount(\"/content/drive\", force_remount=True).\n",
            "3266_data.txt\n",
            "158_data.txt\n",
            "5477_data.txt\n"
          ]
        }
      ],
      "source": [
        "\n",
        "# mount google drive\n",
        "drive.mount('/content/drive')\n",
        "\n",
        "# path to directory\n",
        "result_dir = \"/content/drive/MyDrive/Research/VRExperiment\"\n",
        "\n",
        "# List all files in the folder\n",
        "file_list = os.listdir(result_dir)\n",
        "for file in file_list:\n",
        "  print(file)"
      ]
    },
    {
      "cell_type": "code",
      "source": [
        "def analyze_staircase_with_alternating_three_rule(data):\n",
        "    tuning_points = []\n",
        "    no_count = 0  # Counter for consecutive \"NO\" responses\n",
        "    yes_count = 0  # Counter for consecutive \"YES\" responses\n",
        "    increasing = True  # Flag to track if we are in the increasing or decreasing phase\n",
        "\n",
        "    # Iterate over each trial in the data\n",
        "    for i in range(len(data)):\n",
        "        current_result = data['result'].iloc[i]\n",
        "\n",
        "        if increasing:\n",
        "            # Count consecutive \"NO\"s in increasing phase\n",
        "            if current_result == False:\n",
        "                no_count += 1\n",
        "                yes_count = 0  # Reset YES count if we get a \"NO\"\n",
        "            else:\n",
        "                no_count = 0  # Reset NO count if we get a \"YES\"\n",
        "                yes_count += 1\n",
        "\n",
        "            # After three \"YES\" responses, we mark a tuning point and switch to decreasing\n",
        "            if yes_count == 3:\n",
        "                tuning_points.append(data['illusion value'].iloc[i])\n",
        "                yes_count = 0  # Reset YES count\n",
        "                increasing = False  # Switch to decreasing phase\n",
        "\n",
        "        else:\n",
        "            # Count consecutive \"YES\"s in decreasing phase\n",
        "            if current_result == True:\n",
        "                yes_count += 1\n",
        "                no_count = 0  # Reset NO count if we get a \"YES\"\n",
        "            else:\n",
        "                yes_count = 0  # Reset YES count if we get a \"NO\"\n",
        "                no_count += 1\n",
        "\n",
        "            # After three \"NO\" responses, we mark a tuning point and switch to increasing\n",
        "            if no_count == 3:\n",
        "                tuning_points.append(data['illusion value'].iloc[i])\n",
        "                no_count = 0  # Reset NO count\n",
        "                increasing = True  # Switch to increasing phase\n",
        "\n",
        "    # Calculate the threshold as the average of all tuning points\n",
        "    threshold = sum(tuning_points) / len(tuning_points) if tuning_points else None\n",
        "\n",
        "    return threshold, tuning_points\n"
      ],
      "metadata": {
        "id": "SP33RqZ8XiVv"
      },
      "execution_count": null,
      "outputs": []
    },
    {
      "cell_type": "code",
      "source": [
        "def process_one_result(file_name):\n",
        "    print(f'Processing: {file_name}')\n",
        "    # read file\n",
        "    file_path = os.path.join(result_dir, file_name)\n",
        "    with open(file_path, 'r') as file:\n",
        "        lines = file.readlines()\n",
        "    UID = lines[0].split(\":\")[1].strip()\n",
        "    # find the last occurance of line UID\n",
        "    last_index = len(lines) - 1\n",
        "    for i in range(len(lines) - 1, -1, -1):\n",
        "        if lines[i].startswith(\"UID:\"):\n",
        "            last_index = i\n",
        "            break\n",
        "    print(f'starting from line: {last_index}')\n",
        "    # start from last_index\n",
        "    lines = lines[last_index:]\n",
        "    # remove first two lines (UID and text)\n",
        "    result = lines[2:]\n",
        "    # conver to df\n",
        "    df = pd.DataFrame(result, columns=[\"result\"])\n",
        "    # split by comma, column name: experiment type, value, result\n",
        "    df[[\"experiment\", \"value\", \"result\"]] = df[\"result\"].str.split(\",\", expand=True)\n",
        "    # split experiment column to scene and illusion type\n",
        "    df[[\"scene\", \"illusion\"]] = df[\"experiment\"].str.split(\" \", expand=True)\n",
        "    # drop experiment column\n",
        "    df = df.drop(columns=[\"experiment\"])\n",
        "    # remove \"\\n\" from the result column\n",
        "    df[\"result\"] = df[\"result\"].str.replace(\"\\n\", \"\")\n",
        "    # rearrange column order: scene, illusion, value, result\n",
        "    df = df[[\"scene\", \"illusion\", \"value\", \"result\"]]\n",
        "    # Stationary scene\n",
        "    stationary_scene = df[df[\"scene\"] == \"Stationary\"]\n",
        "    # illusion scene\n",
        "    moving_scene = df[df[\"scene\"] == \"Moving\"]\n",
        "    if stationary_scene.empty:\n",
        "        print(\"Stationary scene not found\")\n",
        "        return\n",
        "    if moving_scene.empty:\n",
        "        print(\"Moving scene not found\")\n",
        "        return\n",
        "\n",
        "    print(f'Stationary scene: {stationary_scene}')\n",
        "    print(f'Moving scene: {moving_scene}')\n",
        "\n",
        "    # For this phycophysics experiment, we used staircase method, where we need\n",
        "    # to find the tunning point and calculate the average of the turning point to determine the threshold\n",
        "\n",
        "\n",
        "\n"
      ],
      "metadata": {
        "id": "TMNSR1-cEUiB"
      },
      "execution_count": null,
      "outputs": []
    },
    {
      "cell_type": "code",
      "source": [
        "for file in file_list:\n",
        "  process_one_result(file)\n",
        "  break"
      ],
      "metadata": {
        "colab": {
          "base_uri": "https://localhost:8080/"
        },
        "id": "SJmby3bUExM8",
        "outputId": "78e66d14-e8b9-4694-b2b1-2e3bd648663f"
      },
      "execution_count": null,
      "outputs": [
        {
          "output_type": "stream",
          "name": "stdout",
          "text": [
            "Processing: 3266_data.txt\n",
            "starting from line: 0\n",
            "Stationary scene:           scene     illusion value result\n",
            "6    Stationary   OuchiColor  0.98   True\n",
            "7    Stationary   OuchiColor  0.92   True\n",
            "8    Stationary   OuchiColor  0.86   True\n",
            "9    Stationary   OuchiColor   0.8   True\n",
            "10   Stationary   OuchiColor  0.74   True\n",
            "..          ...          ...   ...    ...\n",
            "100  Stationary  WheelLength     0   True\n",
            "101  Stationary  WheelLength     0   True\n",
            "102  Stationary  WheelLength     0  False\n",
            "103  Stationary  WheelLength     0  False\n",
            "104  Stationary  WheelLength     0  False\n",
            "\n",
            "[99 rows x 4 columns]\n",
            "Moving scene:       scene     illusion value result\n",
            "105  Moving   OuchiColor  0.98   True\n",
            "106  Moving   OuchiColor  0.92   True\n",
            "107  Moving   OuchiColor  0.86   True\n",
            "108  Moving   OuchiColor   0.8   True\n",
            "109  Moving   OuchiColor  0.74   True\n",
            "..      ...          ...   ...    ...\n",
            "198  Moving  WheelLength   6.6   True\n",
            "199  Moving  WheelLength     6   True\n",
            "200  Moving  WheelLength   5.4   True\n",
            "201  Moving  WheelLength   4.8  False\n",
            "202  Moving  WheelLength   4.2   True\n",
            "\n",
            "[98 rows x 4 columns]\n"
          ]
        }
      ]
    },
    {
      "cell_type": "code",
      "source": [],
      "metadata": {
        "id": "o2Xr4X8pEz8j"
      },
      "execution_count": null,
      "outputs": []
    }
  ]
}