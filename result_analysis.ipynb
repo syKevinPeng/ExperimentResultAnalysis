{
  "nbformat": 4,
  "nbformat_minor": 0,
  "metadata": {
    "colab": {
      "provenance": [],
      "mount_file_id": "13TmkR5E9DkDhJZoXR8HvV3A4NB2cqL2I",
      "authorship_tag": "ABX9TyNmaER6hWNgCiWmu9yqcYdl",
      "include_colab_link": true
    },
    "kernelspec": {
      "name": "python3",
      "display_name": "Python 3"
    },
    "language_info": {
      "name": "python"
    }
  },
  "cells": [
    {
      "cell_type": "markdown",
      "metadata": {
        "id": "view-in-github",
        "colab_type": "text"
      },
      "source": [
        "<a href=\"https://colab.research.google.com/github/syKevinPeng/ExperimentResultAnalysis/blob/main/result_analysis.ipynb\" target=\"_parent\"><img src=\"https://colab.research.google.com/assets/colab-badge.svg\" alt=\"Open In Colab\"/></a>"
      ]
    },
    {
      "cell_type": "code",
      "source": [
        "# process_result.py\n",
        "from google.colab import drive\n",
        "import os\n",
        "import pathlib\n",
        "import pandas as pd\n",
        "import matplotlib.pyplot as plt\n",
        "import numpy as np"
      ],
      "metadata": {
        "id": "5Z1LjRzdFV2u"
      },
      "execution_count": 1,
      "outputs": []
    },
    {
      "cell_type": "code",
      "execution_count": 2,
      "metadata": {
        "colab": {
          "base_uri": "https://localhost:8080/"
        },
        "id": "f1jOsrqnCYH4",
        "outputId": "36c44724-fea9-411c-c9c7-b34d30a534ac"
      },
      "outputs": [
        {
          "output_type": "stream",
          "name": "stdout",
          "text": [
            "Mounted at /content/drive\n",
            "3266_data.txt\n",
            "158_data.txt\n",
            "5477_data.txt\n"
          ]
        }
      ],
      "source": [
        "\n",
        "# mount google drive\n",
        "drive.mount('/content/drive')\n",
        "\n",
        "# path to directory\n",
        "result_dir = \"/content/drive/MyDrive/Research/VRExperiment\"\n",
        "\n",
        "# List all files in the folder\n",
        "file_list = os.listdir(result_dir)\n",
        "for file in file_list:\n",
        "  print(file)"
      ]
    },
    {
      "cell_type": "code",
      "source": [
        "def analyze_staircase_with_alternating_three_rule(data):\n",
        "    tuning_points = []\n",
        "    no_count = 0  # Counter for consecutive \"NO\" responses\n",
        "    yes_count = 0  # Counter for consecutive \"YES\" responses\n",
        "    increasing = True  # Flag to track if we are in the increasing or decreasing phase\n",
        "\n",
        "    # Iterate over each trial in the data\n",
        "    for i in range(len(data)):\n",
        "        current_result = data['result'].iloc[i]\n",
        "\n",
        "        if increasing:\n",
        "            # Count consecutive \"NO\"s in increasing phase\n",
        "            if current_result == False:\n",
        "                no_count += 1\n",
        "                yes_count = 0  # Reset YES count if we get a \"NO\"\n",
        "            else:\n",
        "                no_count = 0  # Reset NO count if we get a \"YES\"\n",
        "                yes_count += 1\n",
        "\n",
        "            # After three \"YES\" responses, we mark a tuning point and switch to decreasing\n",
        "            if yes_count == 3:\n",
        "                tuning_points.append(data['value'].iloc[i])\n",
        "                yes_count = 0  # Reset YES count\n",
        "                increasing = False  # Switch to decreasing phase\n",
        "\n",
        "        else:\n",
        "            # Count consecutive \"YES\"s in decreasing phase\n",
        "            if current_result == True:\n",
        "                yes_count += 1\n",
        "                no_count = 0  # Reset NO count if we get a \"YES\"\n",
        "            else:\n",
        "                yes_count = 0  # Reset YES count if we get a \"NO\"\n",
        "                no_count += 1\n",
        "\n",
        "            # After three \"NO\" responses, we mark a tuning point and switch to increasing\n",
        "            if no_count == 3:\n",
        "                tuning_points.append(data['value'].iloc[i])\n",
        "                no_count = 0  # Reset NO count\n",
        "                increasing = True  # Switch to increasing phase\n",
        "\n",
        "    # Calculate the threshold as the average of all tuning points\n",
        "    threshold = sum(tuning_points) / len(tuning_points) if tuning_points else None\n",
        "\n",
        "    return threshold, tuning_points\n"
      ],
      "metadata": {
        "id": "SP33RqZ8XiVv"
      },
      "execution_count": 8,
      "outputs": []
    },
    {
      "cell_type": "code",
      "source": [
        "def plot_staircase_with_alternating_three_rule(data, tuning_points = None):\n",
        "    # x axis is the number of responses\n",
        "    # y axis is the illusion value\n",
        "    # when result is yes, mark the dot to green; when the result is no, mark the dot to red\n",
        "    # if tuning_points is not none, make the turning points to be triangle\n",
        "\n",
        "    # Initialize plot\n",
        "    plt.figure(figsize=(10, 6))\n",
        "\n",
        "    # Plot each response\n",
        "    for i, row in data.iterrows():\n",
        "        x = i  # x-axis is the response number\n",
        "        y = row['illusion value']  # y-axis is the illusion value\n",
        "\n",
        "        # Set color based on the result (YES: green, NO: red)\n",
        "        color = 'green' if row['result'] else 'red'\n",
        "\n",
        "        # Plot each point as a circle\n",
        "        plt.scatter(x, y, color=color, marker='o', label='YES' if color == 'green' else 'NO')\n",
        "\n",
        "    # Highlight tuning points, if provided\n",
        "    if tuning_points:\n",
        "        for point in tuning_points:\n",
        "            index = data[data['illusion value'] == point].index[0]  # Find index of each tuning point\n",
        "            plt.scatter(index, point, color='blue', marker='^', s=100, label='Tuning Point')\n",
        "\n",
        "    # Add labels and title\n",
        "    plt.xlabel(\"Response Number\")\n",
        "    plt.ylabel(\"Illusion Value\")\n",
        "    plt.title(\"Staircase Plot with Alternating Three Rule\")\n",
        "    plt.legend(['YES', 'NO', 'Tuning Point'])\n",
        "    plt.grid(True)\n",
        "    plt.show()\n",
        "\n"
      ],
      "metadata": {
        "id": "3WW3caK2SfT-"
      },
      "execution_count": null,
      "outputs": []
    },
    {
      "cell_type": "code",
      "source": [
        "def process_one_result(file_name):\n",
        "    print(f'Processing: {file_name}')\n",
        "    # read file\n",
        "    file_path = os.path.join(result_dir, file_name)\n",
        "    with open(file_path, 'r') as file:\n",
        "        lines = file.readlines()\n",
        "    UID = lines[0].split(\":\")[1].strip()\n",
        "    # find the last occurance of line UID\n",
        "    last_index = len(lines) - 1\n",
        "    for i in range(len(lines) - 1, -1, -1):\n",
        "        if lines[i].startswith(\"UID:\"):\n",
        "            last_index = i\n",
        "            break\n",
        "    print(f'starting from line: {last_index}')\n",
        "    # start from last_index\n",
        "    lines = lines[last_index:]\n",
        "    # remove first two lines (UID and text)\n",
        "    result = lines[2:]\n",
        "    # conver to df\n",
        "    df = pd.DataFrame(result, columns=[\"result\"])\n",
        "    # split by comma, column name: experiment type, value, result\n",
        "    df[[\"experiment\", \"value\", \"result\"]] = df[\"result\"].str.split(\",\", expand=True)\n",
        "    # split experiment column to scene and illusion type\n",
        "    df[[\"scene\", \"illusion\"]] = df[\"experiment\"].str.split(\" \", expand=True)\n",
        "    # drop experiment column\n",
        "    df = df.drop(columns=[\"experiment\"])\n",
        "    # remove \"\\n\" from the result column\n",
        "    df[\"result\"] = df[\"result\"].str.replace(\"\\n\", \"\")\n",
        "    # rearrange column order: scene, illusion, value, result\n",
        "    df = df[[\"scene\", \"illusion\", \"value\", \"result\"]]\n",
        "    # make value column to float type\n",
        "    df[\"value\"] = df[\"value\"].astype(float)\n",
        "    # Stationary scene\n",
        "    stationary_scene = df[df[\"scene\"] == \"Stationary\"]\n",
        "    # illusion scene\n",
        "    moving_scene = df[df[\"scene\"] == \"Moving\"]\n",
        "    if stationary_scene.empty:\n",
        "        print(\"Stationary scene not found\")\n",
        "        return\n",
        "    if moving_scene.empty:\n",
        "        print(\"Moving scene not found\")\n",
        "        return\n",
        "\n",
        "    # For this phycophysics experiment, we used staircase method, where we need\n",
        "    # to find the tunning point and calculate the average of the turning point to determine the threshold\n",
        "\n",
        "    moving_scene_threshold, moving_scene_tuning_points = analyze_staircase_with_alternating_three_rule(moving_scene)\n",
        "    print(f'Moving scene threshold: {moving_scene_threshold}')\n",
        "    print(f'Moving scene tuning points: {moving_scene_tuning_points}')\n",
        "\n",
        "\n",
        "\n"
      ],
      "metadata": {
        "id": "TMNSR1-cEUiB"
      },
      "execution_count": 11,
      "outputs": []
    },
    {
      "cell_type": "code",
      "source": [
        "for file in file_list:\n",
        "  process_one_result(file)\n",
        "  break"
      ],
      "metadata": {
        "colab": {
          "base_uri": "https://localhost:8080/"
        },
        "id": "SJmby3bUExM8",
        "outputId": "1df362a1-792c-47bc-f58e-cb0e1594fe4f"
      },
      "execution_count": 12,
      "outputs": [
        {
          "output_type": "stream",
          "name": "stdout",
          "text": [
            "Processing: 3266_data.txt\n",
            "starting from line: 0\n",
            "Moving scene threshold: 6.609687500000001\n",
            "Moving scene tuning points: [0.86, 0.68, 0.58, 0.52, 0.46, 0.4, 0.34, 0.28, 0.22, 0.2, 0.26, 0.2, 0.14, 36.0, 27.0, 22.0, 25.0, 24.0, 0.82, 0.61, 0.52, 0.55, 0.58, 0.49, 0.4, 16.2, 12.0, 10.2, 8.4, 9.0, 7.2, 5.4]\n"
          ]
        }
      ]
    },
    {
      "cell_type": "code",
      "source": [],
      "metadata": {
        "id": "o2Xr4X8pEz8j"
      },
      "execution_count": null,
      "outputs": []
    }
  ]
}